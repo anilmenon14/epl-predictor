{
 "cells": [
  {
   "cell_type": "markdown",
   "metadata": {},
   "source": [
    "### Function that takes iterates over all files and produces a concatenated dataframe\n",
    "#### Data produced will be stored in DataFrame named as 'finalDataFrame' that will persist across Notebooks"
   ]
  },
  {
   "cell_type": "code",
   "execution_count": 90,
   "metadata": {},
   "outputs": [],
   "source": [
    "from oauth2client.service_account import ServiceAccountCredentials\n",
    "import gspread\n",
    "import pandas as pd\n",
    "import time # workaround to get past the issue of Google Sheets API timing out"
   ]
  },
  {
   "cell_type": "code",
   "execution_count": 91,
   "metadata": {},
   "outputs": [],
   "source": [
    "#retrieve filesInDriveDict\n",
    "%store -r filesInDriveDict\n",
    "\n",
    "# Configure the connection \n",
    "scopes = ['https://spreadsheets.google.com/feeds', 'https://www.googleapis.com/auth/drive.readonly']\n",
    "key_file_location = 'gsheetsprivkey\\serviceaccount.json'\n",
    "\n",
    "# Give the path to the Service Account Credential json file \n",
    "credentials = ServiceAccountCredentials.from_json_keyfile_name(key_file_location,scopes)\n",
    "\n",
    "# Authorise your Jupyter Notebook to connect to Google Drive API using private key credentials in 'credentials'\n",
    "gc = gspread.authorize(credentials)"
   ]
  },
  {
   "cell_type": "code",
   "execution_count": 92,
   "metadata": {},
   "outputs": [],
   "source": [
    "#List comprehension to pull up all the ids from the filesInDriveDict\n",
    "fileKeyIDs = [val['id'] for key,val in filesInDriveDict.items()]\n",
    "\n",
    "#initialize a list with one value , viz number of files in fileKeyIDs\n",
    "fileIDChunkList = [len(fileKeyIDs)]\n",
    "\n",
    "# breaking 27 into [7,10,10]\n",
    "while fileIDChunkList[0] > 10:\n",
    "    fileIDChunkList.append(10)\n",
    "    fileIDChunkList[0] = fileIDChunkList[0]-10"
   ]
  },
  {
   "cell_type": "code",
   "execution_count": 93,
   "metadata": {},
   "outputs": [],
   "source": [
    "#initialize new \n",
    "finalDataFrame = pd.DataFrame()\n",
    "\n",
    "#variables used to split fileKeyIDs\n",
    "start = end = 0\n",
    "\n",
    "# Expected to take over 100 seconds per 10 files due to time.sleep(). Expect 30 files to take 300 seconds (i.e. 5 mins)\n",
    "for item in fileIDChunkList:\n",
    "    end = start + item\n",
    "    for keyID in fileKeyIDs[start:end]:\n",
    "        #spreadsheet_key is the internal key stored in Google drive for that file\n",
    "        tempWorkbook = gc.open_by_key(keyID)\n",
    "        #By default load 1st sheet of the workbook , i.e. index = 0\n",
    "        tempSheet = tempWorkbook.get_worksheet(0)\n",
    "        #get_all_values returns list of lists with first list as column headers\n",
    "        tempValues = tempSheet.get_all_values()\n",
    "        # Pulling the data and transform it to the data frame .1st row is header , remaining are actual values\n",
    "        temp_pd_data = pd.DataFrame(tempValues[1:], columns = tempValues[0])\n",
    "        #iteratively concatenating\n",
    "        finalDataFrame = pd.concat([finalDataFrame,temp_pd_data])\n",
    "    start += item;\n",
    "    #if not on the last item (since 'end' is equal to length of fileKeyIDs on last step), proceed to pause for 100 secs\n",
    "    if end < len(fileKeyIDs):\n",
    "        time.sleep(100)"
   ]
  },
  {
   "cell_type": "code",
   "execution_count": 94,
   "metadata": {},
   "outputs": [
    {
     "name": "stdout",
     "output_type": "stream",
     "text": [
      "Stored 'finalDataFrame' (DataFrame)\n"
     ]
    }
   ],
   "source": [
    "%store finalDataFrame"
   ]
  }
 ],
 "metadata": {
  "kernelspec": {
   "display_name": "Python 3",
   "language": "python",
   "name": "python3"
  },
  "language_info": {
   "codemirror_mode": {
    "name": "ipython",
    "version": 3
   },
   "file_extension": ".py",
   "mimetype": "text/x-python",
   "name": "python",
   "nbconvert_exporter": "python",
   "pygments_lexer": "ipython3",
   "version": "3.7.6"
  }
 },
 "nbformat": 4,
 "nbformat_minor": 4
}
